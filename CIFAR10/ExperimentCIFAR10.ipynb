{
  "nbformat": 4,
  "nbformat_minor": 0,
  "metadata": {
    "colab": {
      "name": "ExperimentCIFAR10.ipynb",
      "provenance": [],
      "collapsed_sections": [],
      "machine_shape": "hm"
    },
    "kernelspec": {
      "name": "python3",
      "display_name": "Python 3"
    },
    "accelerator": "GPU",
    "widgets": {
      "application/vnd.jupyter.widget-state+json": {
        "f657ffe281db4c07a335350fb7f9ceb3": {
          "model_module": "@jupyter-widgets/controls",
          "model_name": "HBoxModel",
          "state": {
            "_view_name": "HBoxView",
            "_dom_classes": [],
            "_model_name": "HBoxModel",
            "_view_module": "@jupyter-widgets/controls",
            "_model_module_version": "1.5.0",
            "_view_count": null,
            "_view_module_version": "1.5.0",
            "box_style": "",
            "layout": "IPY_MODEL_a1308a579fb64f54b4db16750ba10194",
            "_model_module": "@jupyter-widgets/controls",
            "children": [
              "IPY_MODEL_f51a221f69ad4fb1a98be0683ea1e9a1",
              "IPY_MODEL_d1ad532594ff4557b0f94967b194ea79"
            ]
          }
        },
        "a1308a579fb64f54b4db16750ba10194": {
          "model_module": "@jupyter-widgets/base",
          "model_name": "LayoutModel",
          "state": {
            "_view_name": "LayoutView",
            "grid_template_rows": null,
            "right": null,
            "justify_content": null,
            "_view_module": "@jupyter-widgets/base",
            "overflow": null,
            "_model_module_version": "1.2.0",
            "_view_count": null,
            "flex_flow": null,
            "width": null,
            "min_width": null,
            "border": null,
            "align_items": null,
            "bottom": null,
            "_model_module": "@jupyter-widgets/base",
            "top": null,
            "grid_column": null,
            "overflow_y": null,
            "overflow_x": null,
            "grid_auto_flow": null,
            "grid_area": null,
            "grid_template_columns": null,
            "flex": null,
            "_model_name": "LayoutModel",
            "justify_items": null,
            "grid_row": null,
            "max_height": null,
            "align_content": null,
            "visibility": null,
            "align_self": null,
            "height": null,
            "min_height": null,
            "padding": null,
            "grid_auto_rows": null,
            "grid_gap": null,
            "max_width": null,
            "order": null,
            "_view_module_version": "1.2.0",
            "grid_template_areas": null,
            "object_position": null,
            "object_fit": null,
            "grid_auto_columns": null,
            "margin": null,
            "display": null,
            "left": null
          }
        },
        "f51a221f69ad4fb1a98be0683ea1e9a1": {
          "model_module": "@jupyter-widgets/controls",
          "model_name": "FloatProgressModel",
          "state": {
            "_view_name": "ProgressView",
            "style": "IPY_MODEL_0720471c412f42858836d47477a91617",
            "_dom_classes": [],
            "description": "",
            "_model_name": "FloatProgressModel",
            "bar_style": "success",
            "max": 1,
            "_view_module": "@jupyter-widgets/controls",
            "_model_module_version": "1.5.0",
            "value": 1,
            "_view_count": null,
            "_view_module_version": "1.5.0",
            "orientation": "horizontal",
            "min": 0,
            "description_tooltip": null,
            "_model_module": "@jupyter-widgets/controls",
            "layout": "IPY_MODEL_56c453e46e1c4329b5c3986c477ffe6e"
          }
        },
        "d1ad532594ff4557b0f94967b194ea79": {
          "model_module": "@jupyter-widgets/controls",
          "model_name": "HTMLModel",
          "state": {
            "_view_name": "HTMLView",
            "style": "IPY_MODEL_d407b951a4df498f94dca530ba3a8e5d",
            "_dom_classes": [],
            "description": "",
            "_model_name": "HTMLModel",
            "placeholder": "​",
            "_view_module": "@jupyter-widgets/controls",
            "_model_module_version": "1.5.0",
            "value": " 170500096/? [00:09&lt;00:00, 17131454.49it/s]",
            "_view_count": null,
            "_view_module_version": "1.5.0",
            "description_tooltip": null,
            "_model_module": "@jupyter-widgets/controls",
            "layout": "IPY_MODEL_acc0622bb244465a9abd6b00456471c2"
          }
        },
        "0720471c412f42858836d47477a91617": {
          "model_module": "@jupyter-widgets/controls",
          "model_name": "ProgressStyleModel",
          "state": {
            "_view_name": "StyleView",
            "_model_name": "ProgressStyleModel",
            "description_width": "initial",
            "_view_module": "@jupyter-widgets/base",
            "_model_module_version": "1.5.0",
            "_view_count": null,
            "_view_module_version": "1.2.0",
            "bar_color": null,
            "_model_module": "@jupyter-widgets/controls"
          }
        },
        "56c453e46e1c4329b5c3986c477ffe6e": {
          "model_module": "@jupyter-widgets/base",
          "model_name": "LayoutModel",
          "state": {
            "_view_name": "LayoutView",
            "grid_template_rows": null,
            "right": null,
            "justify_content": null,
            "_view_module": "@jupyter-widgets/base",
            "overflow": null,
            "_model_module_version": "1.2.0",
            "_view_count": null,
            "flex_flow": null,
            "width": null,
            "min_width": null,
            "border": null,
            "align_items": null,
            "bottom": null,
            "_model_module": "@jupyter-widgets/base",
            "top": null,
            "grid_column": null,
            "overflow_y": null,
            "overflow_x": null,
            "grid_auto_flow": null,
            "grid_area": null,
            "grid_template_columns": null,
            "flex": null,
            "_model_name": "LayoutModel",
            "justify_items": null,
            "grid_row": null,
            "max_height": null,
            "align_content": null,
            "visibility": null,
            "align_self": null,
            "height": null,
            "min_height": null,
            "padding": null,
            "grid_auto_rows": null,
            "grid_gap": null,
            "max_width": null,
            "order": null,
            "_view_module_version": "1.2.0",
            "grid_template_areas": null,
            "object_position": null,
            "object_fit": null,
            "grid_auto_columns": null,
            "margin": null,
            "display": null,
            "left": null
          }
        },
        "d407b951a4df498f94dca530ba3a8e5d": {
          "model_module": "@jupyter-widgets/controls",
          "model_name": "DescriptionStyleModel",
          "state": {
            "_view_name": "StyleView",
            "_model_name": "DescriptionStyleModel",
            "description_width": "",
            "_view_module": "@jupyter-widgets/base",
            "_model_module_version": "1.5.0",
            "_view_count": null,
            "_view_module_version": "1.2.0",
            "_model_module": "@jupyter-widgets/controls"
          }
        },
        "acc0622bb244465a9abd6b00456471c2": {
          "model_module": "@jupyter-widgets/base",
          "model_name": "LayoutModel",
          "state": {
            "_view_name": "LayoutView",
            "grid_template_rows": null,
            "right": null,
            "justify_content": null,
            "_view_module": "@jupyter-widgets/base",
            "overflow": null,
            "_model_module_version": "1.2.0",
            "_view_count": null,
            "flex_flow": null,
            "width": null,
            "min_width": null,
            "border": null,
            "align_items": null,
            "bottom": null,
            "_model_module": "@jupyter-widgets/base",
            "top": null,
            "grid_column": null,
            "overflow_y": null,
            "overflow_x": null,
            "grid_auto_flow": null,
            "grid_area": null,
            "grid_template_columns": null,
            "flex": null,
            "_model_name": "LayoutModel",
            "justify_items": null,
            "grid_row": null,
            "max_height": null,
            "align_content": null,
            "visibility": null,
            "align_self": null,
            "height": null,
            "min_height": null,
            "padding": null,
            "grid_auto_rows": null,
            "grid_gap": null,
            "max_width": null,
            "order": null,
            "_view_module_version": "1.2.0",
            "grid_template_areas": null,
            "object_position": null,
            "object_fit": null,
            "grid_auto_columns": null,
            "margin": null,
            "display": null,
            "left": null
          }
        }
      }
    }
  },
  "cells": [
    {
      "cell_type": "code",
      "metadata": {
        "colab": {
          "base_uri": "https://localhost:8080/"
        },
        "id": "mZjo8-JK6HYE",
        "outputId": "4b328472-73ae-47c9-fd45-3c1a4b5a6b3d"
      },
      "source": [
        "pip install adabelief-pytorch==0.1.0"
      ],
      "execution_count": 1,
      "outputs": [
        {
          "output_type": "stream",
          "text": [
            "Collecting adabelief-pytorch==0.1.0\n",
            "  Downloading https://files.pythonhosted.org/packages/e2/dd/4c09c94513bcef38de13d82e9c05478e3f6856c97c753693990d29808c63/adabelief_pytorch-0.1.0-py3-none-any.whl\n",
            "Requirement already satisfied: torch>=0.4.0 in /usr/local/lib/python3.6/dist-packages (from adabelief-pytorch==0.1.0) (1.7.0+cu101)\n",
            "Collecting colorama>=0.4.0\n",
            "  Downloading https://files.pythonhosted.org/packages/44/98/5b86278fbbf250d239ae0ecb724f8572af1c91f4a11edf4d36a206189440/colorama-0.4.4-py2.py3-none-any.whl\n",
            "Requirement already satisfied: tabulate>=0.7 in /usr/local/lib/python3.6/dist-packages (from adabelief-pytorch==0.1.0) (0.8.7)\n",
            "Requirement already satisfied: numpy in /usr/local/lib/python3.6/dist-packages (from torch>=0.4.0->adabelief-pytorch==0.1.0) (1.18.5)\n",
            "Requirement already satisfied: future in /usr/local/lib/python3.6/dist-packages (from torch>=0.4.0->adabelief-pytorch==0.1.0) (0.16.0)\n",
            "Requirement already satisfied: typing-extensions in /usr/local/lib/python3.6/dist-packages (from torch>=0.4.0->adabelief-pytorch==0.1.0) (3.7.4.3)\n",
            "Requirement already satisfied: dataclasses in /usr/local/lib/python3.6/dist-packages (from torch>=0.4.0->adabelief-pytorch==0.1.0) (0.8)\n",
            "Installing collected packages: colorama, adabelief-pytorch\n",
            "Successfully installed adabelief-pytorch-0.1.0 colorama-0.4.4\n"
          ],
          "name": "stdout"
        }
      ]
    },
    {
      "cell_type": "code",
      "metadata": {
        "colab": {
          "base_uri": "https://localhost:8080/"
        },
        "id": "9hSCZH1XEXjq",
        "outputId": "8a47f611-1b6b-4194-b80e-cb66b782a698"
      },
      "source": [
        "pip install adabound"
      ],
      "execution_count": 2,
      "outputs": [
        {
          "output_type": "stream",
          "text": [
            "Collecting adabound\n",
            "  Downloading https://files.pythonhosted.org/packages/cd/44/0c2c414effb3d9750d780b230dbb67ea48ddc5d9a6d7a9b7e6fcc6bdcff9/adabound-0.0.5-py3-none-any.whl\n",
            "Requirement already satisfied: torch>=0.4.0 in /usr/local/lib/python3.6/dist-packages (from adabound) (1.7.0+cu101)\n",
            "Requirement already satisfied: dataclasses in /usr/local/lib/python3.6/dist-packages (from torch>=0.4.0->adabound) (0.8)\n",
            "Requirement already satisfied: future in /usr/local/lib/python3.6/dist-packages (from torch>=0.4.0->adabound) (0.16.0)\n",
            "Requirement already satisfied: typing-extensions in /usr/local/lib/python3.6/dist-packages (from torch>=0.4.0->adabound) (3.7.4.3)\n",
            "Requirement already satisfied: numpy in /usr/local/lib/python3.6/dist-packages (from torch>=0.4.0->adabound) (1.18.5)\n",
            "Installing collected packages: adabound\n",
            "Successfully installed adabound-0.0.5\n"
          ],
          "name": "stdout"
        }
      ]
    },
    {
      "cell_type": "code",
      "metadata": {
        "colab": {
          "base_uri": "https://localhost:8080/"
        },
        "id": "5EFc8OmHEdcz",
        "outputId": "57e7eae9-4ee2-4050-f2e3-f67a1160b807"
      },
      "source": [
        "pip install torch_optimizer"
      ],
      "execution_count": 3,
      "outputs": [
        {
          "output_type": "stream",
          "text": [
            "Collecting torch_optimizer\n",
            "\u001b[?25l  Downloading https://files.pythonhosted.org/packages/ce/70/ca0cd259662eef5c9448d3ecf14af880bbfe76331e4eeab7b19827d6dbe6/torch_optimizer-0.0.1a17-py3-none-any.whl (69kB)\n",
            "\r\u001b[K     |████▊                           | 10kB 22.2MB/s eta 0:00:01\r\u001b[K     |█████████▌                      | 20kB 28.2MB/s eta 0:00:01\r\u001b[K     |██████████████▏                 | 30kB 30.8MB/s eta 0:00:01\r\u001b[K     |███████████████████             | 40kB 20.9MB/s eta 0:00:01\r\u001b[K     |███████████████████████▋        | 51kB 16.5MB/s eta 0:00:01\r\u001b[K     |████████████████████████████▍   | 61kB 18.4MB/s eta 0:00:01\r\u001b[K     |████████████████████████████████| 71kB 6.1MB/s \n",
            "\u001b[?25hCollecting pytorch-ranger>=0.1.1\n",
            "  Downloading https://files.pythonhosted.org/packages/0d/70/12256257d861bbc3e176130d25be1de085ce7a9e60594064888a950f2154/pytorch_ranger-0.1.1-py3-none-any.whl\n",
            "Requirement already satisfied: torch>=1.1.0 in /usr/local/lib/python3.6/dist-packages (from torch_optimizer) (1.7.0+cu101)\n",
            "Requirement already satisfied: typing-extensions in /usr/local/lib/python3.6/dist-packages (from torch>=1.1.0->torch_optimizer) (3.7.4.3)\n",
            "Requirement already satisfied: future in /usr/local/lib/python3.6/dist-packages (from torch>=1.1.0->torch_optimizer) (0.16.0)\n",
            "Requirement already satisfied: numpy in /usr/local/lib/python3.6/dist-packages (from torch>=1.1.0->torch_optimizer) (1.18.5)\n",
            "Requirement already satisfied: dataclasses in /usr/local/lib/python3.6/dist-packages (from torch>=1.1.0->torch_optimizer) (0.8)\n",
            "Installing collected packages: pytorch-ranger, torch-optimizer\n",
            "Successfully installed pytorch-ranger-0.1.1 torch-optimizer-0.0.1a17\n"
          ],
          "name": "stdout"
        }
      ]
    },
    {
      "cell_type": "code",
      "metadata": {
        "id": "4brKx0D9Ejwq"
      },
      "source": [
        "import torch\n",
        "import torchvision\n",
        "import torchvision.transforms as transforms\n",
        "import torch.optim as optim\n",
        "import torch_optimizer as optset\n",
        "import torch.nn as nn\n",
        "from adabelief_pytorch import AdaBelief\n",
        "import adabound"
      ],
      "execution_count": 4,
      "outputs": []
    },
    {
      "cell_type": "code",
      "metadata": {
        "id": "32TsyOSQGUdq"
      },
      "source": [
        "normalize = transforms.Normalize(mean=[0.485, 0.456, 0.406], std=[0.229, 0.224, 0.225])\n",
        "train_transform = transforms.Compose([transforms.Resize(256),\n",
        "                                      transforms.RandomResizedCrop(224), \n",
        "                                      transforms.RandomHorizontalFlip(), \n",
        "                                      transforms.ToTensor(),\n",
        "                                      normalize])\n",
        "test_transform = transforms.Compose([transforms.Resize(256),\n",
        "                                     transforms.CenterCrop(224),\n",
        "                                     transforms.ToTensor(),\n",
        "                                     normalize])"
      ],
      "execution_count": 5,
      "outputs": []
    },
    {
      "cell_type": "code",
      "metadata": {
        "colab": {
          "base_uri": "https://localhost:8080/",
          "height": 103,
          "referenced_widgets": [
            "f657ffe281db4c07a335350fb7f9ceb3",
            "a1308a579fb64f54b4db16750ba10194",
            "f51a221f69ad4fb1a98be0683ea1e9a1",
            "d1ad532594ff4557b0f94967b194ea79",
            "0720471c412f42858836d47477a91617",
            "56c453e46e1c4329b5c3986c477ffe6e",
            "d407b951a4df498f94dca530ba3a8e5d",
            "acc0622bb244465a9abd6b00456471c2"
          ]
        },
        "id": "XcmRBNfiG6cX",
        "outputId": "7a36edba-349d-4594-8758-4ac2d439c6ea"
      },
      "source": [
        "batch_size = 100\n",
        "trainset = torchvision.datasets.CIFAR10(root='./data', train=True,\n",
        "                                        download=True, transform=train_transform)\n",
        "trainloader = torch.utils.data.DataLoader(trainset, batch_size=batch_size,\n",
        "                                          shuffle=True, num_workers=2)\n",
        "\n",
        "testset = torchvision.datasets.CIFAR10(root='./data', train=False,\n",
        "                                       download=True, transform=test_transform)\n",
        "testloader = torch.utils.data.DataLoader(testset, batch_size=batch_size,\n",
        "                                         shuffle=False, num_workers=2)"
      ],
      "execution_count": 6,
      "outputs": [
        {
          "output_type": "stream",
          "text": [
            "Downloading https://www.cs.toronto.edu/~kriz/cifar-10-python.tar.gz to ./data/cifar-10-python.tar.gz\n"
          ],
          "name": "stdout"
        },
        {
          "output_type": "display_data",
          "data": {
            "application/vnd.jupyter.widget-view+json": {
              "model_id": "f657ffe281db4c07a335350fb7f9ceb3",
              "version_minor": 0,
              "version_major": 2
            },
            "text/plain": [
              "HBox(children=(FloatProgress(value=1.0, bar_style='info', max=1.0), HTML(value='')))"
            ]
          },
          "metadata": {
            "tags": []
          }
        },
        {
          "output_type": "stream",
          "text": [
            "Extracting ./data/cifar-10-python.tar.gz to ./data\n",
            "Files already downloaded and verified\n"
          ],
          "name": "stdout"
        }
      ]
    },
    {
      "cell_type": "code",
      "metadata": {
        "id": "Km5Q5eDogb7P"
      },
      "source": [
        "import time\n",
        "\n",
        "def timeSince(since):\n",
        "    now = time.time()\n",
        "    s = now - since\n",
        "    m = s // 60\n",
        "    s -= m * 60\n",
        "    return '%dm %ds' % (m, s)"
      ],
      "execution_count": 7,
      "outputs": []
    },
    {
      "cell_type": "code",
      "metadata": {
        "id": "zO-90CjMG__E"
      },
      "source": [
        "import torchvision.models as models\n",
        "\n",
        "optimizer_names = ['AdaBelief', 'AdaBound', 'Adam', 'LAMB', 'SGD', 'Yogi']"
      ],
      "execution_count": 8,
      "outputs": []
    },
    {
      "cell_type": "code",
      "metadata": {
        "id": "DVXxFoB7NTV2"
      },
      "source": [
        "def evaluateImageModel(model, data, criterion, device):\n",
        "    model.eval()\n",
        "    total_loss = 0.0\n",
        "    correct = 0\n",
        "    total = 0\n",
        "    with torch.no_grad():\n",
        "        for image, labels in data:\n",
        "            image, labels = image.to(device), labels.to(device)\n",
        "            output = model(image)\n",
        "            pred = torch.argmax(output, dim=1)\n",
        "            correct += (pred == labels).sum().item()\n",
        "            total += len(labels)\n",
        "            loss = criterion(output, labels)\n",
        "            total_loss += loss.item()\n",
        "\n",
        "    return total_loss / len(data), 1 - correct / total"
      ],
      "execution_count": 9,
      "outputs": []
    },
    {
      "cell_type": "code",
      "metadata": {
        "id": "-bpl00IlNCYG"
      },
      "source": [
        "def trainImageModel(model, train_data, val_data, n_epochs, criterion, optimizer, device, path):\n",
        "    model.train()\n",
        "    train_error_list = []\n",
        "    val_error_list = []\n",
        "    min_error = None\n",
        "    step = 0\n",
        "    print_every = len(train_data)\n",
        "    start = time.time()\n",
        "    for epoch in range(n_epochs):\n",
        "        running_loss = 0.0\n",
        "        running_correct = 0\n",
        "        running_total = 0\n",
        "        for image, labels in train_data:\n",
        "            optimizer.zero_grad()\n",
        "            step += 1\n",
        "            image, labels = image.to(device), labels.to(device)\n",
        "            output = model(image)\n",
        "            pred = torch.argmax(output, dim=1)\n",
        "            running_correct += (pred == labels).sum().item()\n",
        "            running_total += len(labels)\n",
        "            loss = criterion(output, labels)\n",
        "            running_loss += loss.item()\n",
        "            loss.backward()\n",
        "            optimizer.step()\n",
        "            if step % print_every == 0:\n",
        "                val_loss, val_error = evaluateImageModel(model, val_data, criterion, device)\n",
        "                print(('%d/%d (%s) train loss: %.3f, train error: %.2f%%, val loss: %.3f, val error: %.2f%%') %\n",
        "                      (epoch + 1, n_epochs, timeSince(start), running_loss / len(train_data), \n",
        "                       100 *(1 - running_correct / running_total), val_loss, 100 * val_error))\n",
        "                train_error_list.append(1 - running_correct / running_total)\n",
        "                val_error_list.append(val_error)\n",
        "                if min_error is None or min_error > val_error:\n",
        "                    if min_error is None:\n",
        "                        print(('Validation error rate in first epoch: %.2f%%') % (100 * val_error))\n",
        "                    else:\n",
        "                        print(('Validation error rate is decreasing: %.2f%% --> %.2f%%') % \n",
        "                              (100 * min_error, 100 * val_error))\n",
        "                    min_error = val_error\n",
        "                    print('Saving model...')\n",
        "                    torch.save(model, path)\n",
        "                \n",
        "                model.train()\n",
        "                running_loss = 0.0\n",
        "                running_correct = 0\n",
        "                running_total = 0\n",
        "    \n",
        "    return train_error_list, val_error_list"
      ],
      "execution_count": 10,
      "outputs": []
    },
    {
      "cell_type": "code",
      "metadata": {
        "colab": {
          "base_uri": "https://localhost:8080/"
        },
        "id": "Kmf91wj1IY-k",
        "outputId": "c568c2d2-2da0-4779-f058-1fffd6116f76"
      },
      "source": [
        "# Adabelief\n",
        "model = models.resnet34()\n",
        "device = torch.device('cuda' if torch.cuda.is_available() else 'cpu')\n",
        "criterion = nn.CrossEntropyLoss()\n",
        "n_epochs = 50\n",
        "adabelief_Res_train_list = None\n",
        "adabelief_Res_test_list = None\n",
        "optimizer = AdaBelief(model.parameters())\n",
        "model.to(device)\n",
        "path = 'AdabeliefRes.pt'\n",
        "adabelief_Res_train_list, adabelief_Res_test_list = trainImageModel(model, trainloader, testloader,\n",
        "                                                                    n_epochs, criterion, optimizer,\n",
        "                                                                    device, path)\n",
        "torch.save(adabelief_Res_train_list, 'adabeliefres_train.pt')\n",
        "torch.save(adabelief_Res_test_list, 'adabeliefres_test.pt')"
      ],
      "execution_count": 12,
      "outputs": [
        {
          "output_type": "stream",
          "text": [
            "\u001b[31mPlease check your arguments if you have upgraded adabelief-pytorch from version 0.0.5.\n",
            "\u001b[31mModifications to default arguments:\n",
            "\u001b[31m                           eps  weight_decouple    rectify\n",
            "-----------------------  -----  -----------------  ---------\n",
            "adabelief-pytorch=0.0.5  1e-08  False              False\n",
            "Current version (0.1.0)  1e-16  True               True\n",
            "\u001b[31mFor a complete table of recommended hyperparameters, see\n",
            "\u001b[31mhttps://github.com/juntang-zhuang/Adabelief-Optimizer\n",
            "\u001b[0m\n",
            "Weight decoupling enabled in AdaBelief\n",
            "Rectification enabled in AdaBelief\n",
            "1/50 (1m 48s) train loss: 1.939, train error: 64.68%, val loss: 1.426, val error: 52.60%\n",
            "Validation error rate in first epoch: 52.60%\n",
            "Saving model...\n",
            "2/50 (3m 38s) train loss: 1.416, train error: 51.12%, val loss: 1.769, val error: 50.84%\n",
            "Validation error rate is decreasing: 52.60% --> 50.84%\n",
            "Saving model...\n",
            "3/50 (5m 29s) train loss: 1.214, train error: 43.14%, val loss: 1.036, val error: 35.59%\n",
            "Validation error rate is decreasing: 50.84% --> 35.59%\n",
            "Saving model...\n",
            "4/50 (7m 20s) train loss: 1.091, train error: 38.68%, val loss: 0.908, val error: 32.20%\n",
            "Validation error rate is decreasing: 35.59% --> 32.20%\n",
            "Saving model...\n",
            "5/50 (9m 11s) train loss: 1.001, train error: 35.38%, val loss: 0.884, val error: 28.98%\n",
            "Validation error rate is decreasing: 32.20% --> 28.98%\n",
            "Saving model...\n",
            "6/50 (11m 3s) train loss: 0.936, train error: 33.16%, val loss: 0.796, val error: 26.31%\n",
            "Validation error rate is decreasing: 28.98% --> 26.31%\n",
            "Saving model...\n",
            "7/50 (12m 54s) train loss: 0.890, train error: 31.38%, val loss: 0.597, val error: 20.50%\n",
            "Validation error rate is decreasing: 26.31% --> 20.50%\n",
            "Saving model...\n",
            "8/50 (14m 47s) train loss: 0.840, train error: 29.33%, val loss: 0.636, val error: 21.35%\n",
            "9/50 (16m 37s) train loss: 0.795, train error: 27.82%, val loss: 0.597, val error: 20.26%\n",
            "Validation error rate is decreasing: 20.50% --> 20.26%\n",
            "Saving model...\n",
            "10/50 (18m 29s) train loss: 0.762, train error: 26.53%, val loss: 0.681, val error: 22.10%\n",
            "11/50 (20m 19s) train loss: 0.738, train error: 25.95%, val loss: 0.515, val error: 17.58%\n",
            "Validation error rate is decreasing: 20.26% --> 17.58%\n",
            "Saving model...\n",
            "12/50 (22m 10s) train loss: 0.699, train error: 24.42%, val loss: 0.447, val error: 15.33%\n",
            "Validation error rate is decreasing: 17.58% --> 15.33%\n",
            "Saving model...\n",
            "13/50 (24m 0s) train loss: 0.679, train error: 23.63%, val loss: 0.484, val error: 16.34%\n",
            "14/50 (25m 51s) train loss: 0.650, train error: 22.50%, val loss: 0.445, val error: 14.40%\n",
            "Validation error rate is decreasing: 15.33% --> 14.40%\n",
            "Saving model...\n",
            "15/50 (27m 43s) train loss: 0.628, train error: 21.91%, val loss: 0.464, val error: 15.49%\n",
            "16/50 (29m 34s) train loss: 0.605, train error: 20.93%, val loss: 0.397, val error: 13.29%\n",
            "Validation error rate is decreasing: 14.40% --> 13.29%\n",
            "Saving model...\n",
            "17/50 (31m 25s) train loss: 0.582, train error: 20.42%, val loss: 0.370, val error: 12.46%\n",
            "Validation error rate is decreasing: 13.29% --> 12.46%\n",
            "Saving model...\n",
            "18/50 (33m 18s) train loss: 0.570, train error: 19.71%, val loss: 0.377, val error: 12.65%\n",
            "19/50 (35m 7s) train loss: 0.547, train error: 19.13%, val loss: 0.352, val error: 11.43%\n",
            "Validation error rate is decreasing: 12.46% --> 11.43%\n",
            "Saving model...\n",
            "20/50 (36m 56s) train loss: 0.540, train error: 18.77%, val loss: 0.447, val error: 14.26%\n",
            "21/50 (38m 43s) train loss: 0.526, train error: 18.46%, val loss: 0.296, val error: 9.62%\n",
            "Validation error rate is decreasing: 11.43% --> 9.62%\n",
            "Saving model...\n",
            "22/50 (40m 30s) train loss: 0.504, train error: 17.66%, val loss: 0.368, val error: 12.15%\n",
            "23/50 (42m 19s) train loss: 0.494, train error: 17.24%, val loss: 0.292, val error: 9.57%\n",
            "Validation error rate is decreasing: 9.62% --> 9.57%\n",
            "Saving model...\n",
            "24/50 (44m 7s) train loss: 0.475, train error: 16.56%, val loss: 0.294, val error: 9.36%\n",
            "Validation error rate is decreasing: 9.57% --> 9.36%\n",
            "Saving model...\n",
            "25/50 (45m 54s) train loss: 0.464, train error: 16.07%, val loss: 0.318, val error: 10.27%\n",
            "26/50 (47m 38s) train loss: 0.462, train error: 16.10%, val loss: 0.255, val error: 8.55%\n",
            "Validation error rate is decreasing: 9.36% --> 8.55%\n",
            "Saving model...\n",
            "27/50 (49m 22s) train loss: 0.449, train error: 15.72%, val loss: 0.296, val error: 9.69%\n",
            "28/50 (51m 7s) train loss: 0.442, train error: 15.49%, val loss: 0.277, val error: 9.20%\n",
            "29/50 (52m 50s) train loss: 0.434, train error: 15.05%, val loss: 0.286, val error: 9.32%\n",
            "30/50 (54m 34s) train loss: 0.413, train error: 14.35%, val loss: 0.248, val error: 8.38%\n",
            "Validation error rate is decreasing: 8.55% --> 8.38%\n",
            "Saving model...\n",
            "31/50 (56m 18s) train loss: 0.411, train error: 14.52%, val loss: 0.257, val error: 8.39%\n",
            "32/50 (58m 1s) train loss: 0.406, train error: 14.12%, val loss: 0.281, val error: 9.00%\n",
            "33/50 (59m 43s) train loss: 0.397, train error: 13.73%, val loss: 0.282, val error: 9.07%\n",
            "34/50 (61m 25s) train loss: 0.384, train error: 13.45%, val loss: 0.271, val error: 8.48%\n",
            "35/50 (63m 8s) train loss: 0.381, train error: 13.23%, val loss: 0.238, val error: 7.89%\n",
            "Validation error rate is decreasing: 8.38% --> 7.89%\n",
            "Saving model...\n",
            "36/50 (64m 54s) train loss: 0.375, train error: 13.13%, val loss: 0.252, val error: 8.13%\n",
            "37/50 (66m 41s) train loss: 0.366, train error: 12.64%, val loss: 0.267, val error: 8.71%\n",
            "38/50 (68m 25s) train loss: 0.366, train error: 12.75%, val loss: 0.263, val error: 7.88%\n",
            "Validation error rate is decreasing: 7.89% --> 7.88%\n",
            "Saving model...\n",
            "39/50 (70m 10s) train loss: 0.354, train error: 12.33%, val loss: 0.242, val error: 7.56%\n",
            "Validation error rate is decreasing: 7.88% --> 7.56%\n",
            "Saving model...\n",
            "40/50 (71m 56s) train loss: 0.353, train error: 12.30%, val loss: 0.255, val error: 7.84%\n",
            "41/50 (73m 39s) train loss: 0.344, train error: 11.92%, val loss: 0.231, val error: 7.05%\n",
            "Validation error rate is decreasing: 7.56% --> 7.05%\n",
            "Saving model...\n",
            "42/50 (75m 23s) train loss: 0.339, train error: 11.59%, val loss: 0.236, val error: 7.42%\n",
            "43/50 (77m 8s) train loss: 0.330, train error: 11.56%, val loss: 0.283, val error: 8.18%\n",
            "44/50 (78m 52s) train loss: 0.330, train error: 11.45%, val loss: 0.258, val error: 7.63%\n",
            "45/50 (80m 36s) train loss: 0.329, train error: 11.49%, val loss: 0.251, val error: 7.74%\n",
            "46/50 (82m 21s) train loss: 0.327, train error: 11.16%, val loss: 0.248, val error: 7.47%\n",
            "47/50 (84m 5s) train loss: 0.315, train error: 10.89%, val loss: 0.249, val error: 7.64%\n",
            "48/50 (85m 49s) train loss: 0.313, train error: 10.92%, val loss: 0.252, val error: 7.21%\n",
            "49/50 (87m 33s) train loss: 0.308, train error: 10.71%, val loss: 0.243, val error: 7.16%\n",
            "50/50 (89m 18s) train loss: 0.305, train error: 10.67%, val loss: 0.237, val error: 7.04%\n",
            "Validation error rate is decreasing: 7.05% --> 7.04%\n",
            "Saving model...\n"
          ],
          "name": "stdout"
        }
      ]
    },
    {
      "cell_type": "code",
      "metadata": {
        "id": "wMM_WocTfjsH",
        "colab": {
          "base_uri": "https://localhost:8080/",
          "height": 17
        },
        "outputId": "8fa61af3-9387-443f-81c7-1c33beff6cb6"
      },
      "source": [
        "from google.colab import files\n",
        "\n",
        "files.download('adabeliefres_train.pt')\n",
        "files.download('adabeliefres_test.pt')"
      ],
      "execution_count": 13,
      "outputs": [
        {
          "output_type": "display_data",
          "data": {
            "application/javascript": [
              "\n",
              "    async function download(id, filename, size) {\n",
              "      if (!google.colab.kernel.accessAllowed) {\n",
              "        return;\n",
              "      }\n",
              "      const div = document.createElement('div');\n",
              "      const label = document.createElement('label');\n",
              "      label.textContent = `Downloading \"${filename}\": `;\n",
              "      div.appendChild(label);\n",
              "      const progress = document.createElement('progress');\n",
              "      progress.max = size;\n",
              "      div.appendChild(progress);\n",
              "      document.body.appendChild(div);\n",
              "\n",
              "      const buffers = [];\n",
              "      let downloaded = 0;\n",
              "\n",
              "      const channel = await google.colab.kernel.comms.open(id);\n",
              "      // Send a message to notify the kernel that we're ready.\n",
              "      channel.send({})\n",
              "\n",
              "      for await (const message of channel.messages) {\n",
              "        // Send a message to notify the kernel that we're ready.\n",
              "        channel.send({})\n",
              "        if (message.buffers) {\n",
              "          for (const buffer of message.buffers) {\n",
              "            buffers.push(buffer);\n",
              "            downloaded += buffer.byteLength;\n",
              "            progress.value = downloaded;\n",
              "          }\n",
              "        }\n",
              "      }\n",
              "      const blob = new Blob(buffers, {type: 'application/binary'});\n",
              "      const a = document.createElement('a');\n",
              "      a.href = window.URL.createObjectURL(blob);\n",
              "      a.download = filename;\n",
              "      div.appendChild(a);\n",
              "      a.click();\n",
              "      div.remove();\n",
              "    }\n",
              "  "
            ],
            "text/plain": [
              "<IPython.core.display.Javascript object>"
            ]
          },
          "metadata": {
            "tags": []
          }
        },
        {
          "output_type": "display_data",
          "data": {
            "application/javascript": [
              "download(\"download_a9b5e92b-d9d8-493c-9de8-d465f4a9390a\", \"adabeliefres_train.pt\", 879)"
            ],
            "text/plain": [
              "<IPython.core.display.Javascript object>"
            ]
          },
          "metadata": {
            "tags": []
          }
        },
        {
          "output_type": "display_data",
          "data": {
            "application/javascript": [
              "\n",
              "    async function download(id, filename, size) {\n",
              "      if (!google.colab.kernel.accessAllowed) {\n",
              "        return;\n",
              "      }\n",
              "      const div = document.createElement('div');\n",
              "      const label = document.createElement('label');\n",
              "      label.textContent = `Downloading \"${filename}\": `;\n",
              "      div.appendChild(label);\n",
              "      const progress = document.createElement('progress');\n",
              "      progress.max = size;\n",
              "      div.appendChild(progress);\n",
              "      document.body.appendChild(div);\n",
              "\n",
              "      const buffers = [];\n",
              "      let downloaded = 0;\n",
              "\n",
              "      const channel = await google.colab.kernel.comms.open(id);\n",
              "      // Send a message to notify the kernel that we're ready.\n",
              "      channel.send({})\n",
              "\n",
              "      for await (const message of channel.messages) {\n",
              "        // Send a message to notify the kernel that we're ready.\n",
              "        channel.send({})\n",
              "        if (message.buffers) {\n",
              "          for (const buffer of message.buffers) {\n",
              "            buffers.push(buffer);\n",
              "            downloaded += buffer.byteLength;\n",
              "            progress.value = downloaded;\n",
              "          }\n",
              "        }\n",
              "      }\n",
              "      const blob = new Blob(buffers, {type: 'application/binary'});\n",
              "      const a = document.createElement('a');\n",
              "      a.href = window.URL.createObjectURL(blob);\n",
              "      a.download = filename;\n",
              "      div.appendChild(a);\n",
              "      a.click();\n",
              "      div.remove();\n",
              "    }\n",
              "  "
            ],
            "text/plain": [
              "<IPython.core.display.Javascript object>"
            ]
          },
          "metadata": {
            "tags": []
          }
        },
        {
          "output_type": "display_data",
          "data": {
            "application/javascript": [
              "download(\"download_e99462db-aed2-490e-bded-0eedcc05bac1\", \"adabeliefres_test.pt\", 879)"
            ],
            "text/plain": [
              "<IPython.core.display.Javascript object>"
            ]
          },
          "metadata": {
            "tags": []
          }
        }
      ]
    },
    {
      "cell_type": "code",
      "metadata": {
        "colab": {
          "base_uri": "https://localhost:8080/",
          "height": 1000
        },
        "id": "VPz-NmHphwPm",
        "outputId": "9aa26f99-c07c-41fe-eb2f-06a00de21b28"
      },
      "source": [
        "train_list = None\n",
        "test_list = None\n",
        "model = models.resnet34()\n",
        "optimizer = adabound.AdaBound(model.parameters())\n",
        "model.to(device)\n",
        "path = 'AdaBoundRes.pt'\n",
        "train_list, test_list = trainImageModel(model, trainloader, testloader,\n",
        "                                                                    n_epochs, criterion, optimizer,\n",
        "                                                                    device, path)\n",
        "torch.save(train_list, 'adaboundres_train.pt')\n",
        "torch.save(test_list, 'adaboundres_test.pt')\n",
        "files.download('adaboundres_train.pt')\n",
        "files.download('adaboundres_test.pt')"
      ],
      "execution_count": 17,
      "outputs": [
        {
          "output_type": "stream",
          "text": [
            "1/50 (1m 48s) train loss: 1.845, train error: 67.37%, val loss: 1.489, val error: 56.35%\n",
            "Validation error rate in first epoch: 56.35%\n",
            "Saving model...\n",
            "2/50 (3m 37s) train loss: 1.597, train error: 58.61%, val loss: 1.448, val error: 52.70%\n",
            "Validation error rate is decreasing: 56.35% --> 52.70%\n",
            "Saving model...\n",
            "3/50 (5m 25s) train loss: 1.418, train error: 51.35%, val loss: 1.201, val error: 42.55%\n",
            "Validation error rate is decreasing: 52.70% --> 42.55%\n",
            "Saving model...\n",
            "4/50 (7m 13s) train loss: 1.270, train error: 45.51%, val loss: 0.969, val error: 34.88%\n",
            "Validation error rate is decreasing: 42.55% --> 34.88%\n",
            "Saving model...\n",
            "5/50 (9m 2s) train loss: 1.158, train error: 41.24%, val loss: 0.929, val error: 32.83%\n",
            "Validation error rate is decreasing: 34.88% --> 32.83%\n",
            "Saving model...\n",
            "6/50 (10m 52s) train loss: 1.089, train error: 38.79%, val loss: 0.800, val error: 27.32%\n",
            "Validation error rate is decreasing: 32.83% --> 27.32%\n",
            "Saving model...\n",
            "7/50 (12m 39s) train loss: 1.016, train error: 35.75%, val loss: 0.881, val error: 29.99%\n",
            "8/50 (14m 23s) train loss: 0.958, train error: 33.72%, val loss: 0.685, val error: 23.47%\n",
            "Validation error rate is decreasing: 27.32% --> 23.47%\n",
            "Saving model...\n",
            "9/50 (16m 8s) train loss: 0.910, train error: 31.98%, val loss: 0.664, val error: 22.67%\n",
            "Validation error rate is decreasing: 23.47% --> 22.67%\n",
            "Saving model...\n",
            "10/50 (17m 55s) train loss: 0.874, train error: 30.56%, val loss: 0.613, val error: 21.09%\n",
            "Validation error rate is decreasing: 22.67% --> 21.09%\n",
            "Saving model...\n",
            "11/50 (19m 41s) train loss: 0.834, train error: 29.00%, val loss: 0.566, val error: 19.31%\n",
            "Validation error rate is decreasing: 21.09% --> 19.31%\n",
            "Saving model...\n",
            "12/50 (21m 25s) train loss: 0.797, train error: 27.98%, val loss: 0.553, val error: 19.14%\n",
            "Validation error rate is decreasing: 19.31% --> 19.14%\n",
            "Saving model...\n",
            "13/50 (23m 11s) train loss: 0.773, train error: 26.91%, val loss: 0.671, val error: 22.72%\n",
            "14/50 (24m 58s) train loss: 0.746, train error: 26.07%, val loss: 0.547, val error: 18.99%\n",
            "Validation error rate is decreasing: 19.14% --> 18.99%\n",
            "Saving model...\n",
            "15/50 (26m 45s) train loss: 0.725, train error: 25.23%, val loss: 0.556, val error: 18.61%\n",
            "Validation error rate is decreasing: 18.99% --> 18.61%\n",
            "Saving model...\n",
            "16/50 (28m 28s) train loss: 0.702, train error: 24.52%, val loss: 0.485, val error: 16.58%\n",
            "Validation error rate is decreasing: 18.61% --> 16.58%\n",
            "Saving model...\n",
            "17/50 (30m 12s) train loss: 0.682, train error: 23.70%, val loss: 0.492, val error: 16.62%\n",
            "18/50 (31m 55s) train loss: 0.672, train error: 23.39%, val loss: 0.431, val error: 14.57%\n",
            "Validation error rate is decreasing: 16.58% --> 14.57%\n",
            "Saving model...\n",
            "19/50 (33m 37s) train loss: 0.655, train error: 22.85%, val loss: 0.496, val error: 16.74%\n",
            "20/50 (35m 21s) train loss: 0.632, train error: 21.97%, val loss: 0.435, val error: 14.69%\n",
            "21/50 (37m 4s) train loss: 0.615, train error: 21.48%, val loss: 0.435, val error: 15.05%\n",
            "22/50 (38m 46s) train loss: 0.608, train error: 21.13%, val loss: 0.415, val error: 13.70%\n",
            "Validation error rate is decreasing: 14.57% --> 13.70%\n",
            "Saving model...\n",
            "23/50 (40m 29s) train loss: 0.594, train error: 20.82%, val loss: 0.422, val error: 14.18%\n",
            "24/50 (42m 11s) train loss: 0.586, train error: 20.49%, val loss: 0.459, val error: 14.99%\n",
            "25/50 (43m 52s) train loss: 0.571, train error: 19.76%, val loss: 0.375, val error: 12.23%\n",
            "Validation error rate is decreasing: 13.70% --> 12.23%\n",
            "Saving model...\n",
            "26/50 (45m 35s) train loss: 0.556, train error: 19.34%, val loss: 0.370, val error: 12.22%\n",
            "Validation error rate is decreasing: 12.23% --> 12.22%\n",
            "Saving model...\n",
            "27/50 (47m 18s) train loss: 0.553, train error: 19.37%, val loss: 0.460, val error: 15.04%\n",
            "28/50 (49m 0s) train loss: 0.541, train error: 18.82%, val loss: 0.359, val error: 12.01%\n",
            "Validation error rate is decreasing: 12.22% --> 12.01%\n",
            "Saving model...\n",
            "29/50 (50m 47s) train loss: 0.530, train error: 18.41%, val loss: 0.375, val error: 12.05%\n",
            "30/50 (52m 32s) train loss: 0.520, train error: 18.11%, val loss: 0.399, val error: 12.69%\n",
            "31/50 (54m 15s) train loss: 0.510, train error: 17.74%, val loss: 0.395, val error: 12.55%\n",
            "32/50 (56m 0s) train loss: 0.507, train error: 17.46%, val loss: 0.384, val error: 12.55%\n",
            "33/50 (57m 44s) train loss: 0.496, train error: 17.42%, val loss: 0.354, val error: 11.58%\n",
            "Validation error rate is decreasing: 12.01% --> 11.58%\n",
            "Saving model...\n",
            "34/50 (59m 29s) train loss: 0.493, train error: 17.35%, val loss: 0.375, val error: 11.85%\n",
            "35/50 (61m 14s) train loss: 0.486, train error: 16.91%, val loss: 0.351, val error: 11.41%\n",
            "Validation error rate is decreasing: 11.58% --> 11.41%\n",
            "Saving model...\n",
            "36/50 (63m 0s) train loss: 0.479, train error: 16.60%, val loss: 0.340, val error: 10.97%\n",
            "Validation error rate is decreasing: 11.41% --> 10.97%\n",
            "Saving model...\n",
            "37/50 (64m 46s) train loss: 0.467, train error: 16.28%, val loss: 0.386, val error: 11.85%\n",
            "38/50 (66m 32s) train loss: 0.455, train error: 15.88%, val loss: 0.325, val error: 10.38%\n",
            "Validation error rate is decreasing: 10.97% --> 10.38%\n",
            "Saving model...\n",
            "39/50 (68m 17s) train loss: 0.454, train error: 15.59%, val loss: 0.346, val error: 11.26%\n",
            "40/50 (70m 1s) train loss: 0.455, train error: 15.80%, val loss: 0.378, val error: 11.76%\n",
            "41/50 (71m 46s) train loss: 0.449, train error: 15.77%, val loss: 0.328, val error: 10.22%\n",
            "Validation error rate is decreasing: 10.38% --> 10.22%\n",
            "Saving model...\n",
            "42/50 (73m 32s) train loss: 0.441, train error: 15.52%, val loss: 0.304, val error: 9.78%\n",
            "Validation error rate is decreasing: 10.22% --> 9.78%\n",
            "Saving model...\n",
            "43/50 (75m 16s) train loss: 0.429, train error: 14.99%, val loss: 0.309, val error: 9.76%\n",
            "Validation error rate is decreasing: 9.78% --> 9.76%\n",
            "Saving model...\n",
            "44/50 (77m 1s) train loss: 0.428, train error: 14.89%, val loss: 0.318, val error: 10.05%\n",
            "45/50 (78m 47s) train loss: 0.423, train error: 14.73%, val loss: 0.334, val error: 10.04%\n",
            "46/50 (80m 30s) train loss: 0.420, train error: 14.75%, val loss: 0.296, val error: 9.73%\n",
            "Validation error rate is decreasing: 9.76% --> 9.73%\n",
            "Saving model...\n",
            "47/50 (82m 16s) train loss: 0.411, train error: 14.45%, val loss: 0.377, val error: 11.26%\n",
            "48/50 (84m 2s) train loss: 0.414, train error: 14.40%, val loss: 0.365, val error: 10.88%\n",
            "49/50 (85m 49s) train loss: 0.402, train error: 13.90%, val loss: 0.309, val error: 9.61%\n",
            "Validation error rate is decreasing: 9.73% --> 9.61%\n",
            "Saving model...\n",
            "50/50 (87m 35s) train loss: 0.398, train error: 14.06%, val loss: 0.336, val error: 9.89%\n"
          ],
          "name": "stdout"
        },
        {
          "output_type": "display_data",
          "data": {
            "application/javascript": [
              "\n",
              "    async function download(id, filename, size) {\n",
              "      if (!google.colab.kernel.accessAllowed) {\n",
              "        return;\n",
              "      }\n",
              "      const div = document.createElement('div');\n",
              "      const label = document.createElement('label');\n",
              "      label.textContent = `Downloading \"${filename}\": `;\n",
              "      div.appendChild(label);\n",
              "      const progress = document.createElement('progress');\n",
              "      progress.max = size;\n",
              "      div.appendChild(progress);\n",
              "      document.body.appendChild(div);\n",
              "\n",
              "      const buffers = [];\n",
              "      let downloaded = 0;\n",
              "\n",
              "      const channel = await google.colab.kernel.comms.open(id);\n",
              "      // Send a message to notify the kernel that we're ready.\n",
              "      channel.send({})\n",
              "\n",
              "      for await (const message of channel.messages) {\n",
              "        // Send a message to notify the kernel that we're ready.\n",
              "        channel.send({})\n",
              "        if (message.buffers) {\n",
              "          for (const buffer of message.buffers) {\n",
              "            buffers.push(buffer);\n",
              "            downloaded += buffer.byteLength;\n",
              "            progress.value = downloaded;\n",
              "          }\n",
              "        }\n",
              "      }\n",
              "      const blob = new Blob(buffers, {type: 'application/binary'});\n",
              "      const a = document.createElement('a');\n",
              "      a.href = window.URL.createObjectURL(blob);\n",
              "      a.download = filename;\n",
              "      div.appendChild(a);\n",
              "      a.click();\n",
              "      div.remove();\n",
              "    }\n",
              "  "
            ],
            "text/plain": [
              "<IPython.core.display.Javascript object>"
            ]
          },
          "metadata": {
            "tags": []
          }
        },
        {
          "output_type": "display_data",
          "data": {
            "application/javascript": [
              "download(\"download_b20effdf-ad4a-4d3f-8cfe-120a40f68799\", \"adaboundres_train.pt\", 879)"
            ],
            "text/plain": [
              "<IPython.core.display.Javascript object>"
            ]
          },
          "metadata": {
            "tags": []
          }
        },
        {
          "output_type": "display_data",
          "data": {
            "application/javascript": [
              "\n",
              "    async function download(id, filename, size) {\n",
              "      if (!google.colab.kernel.accessAllowed) {\n",
              "        return;\n",
              "      }\n",
              "      const div = document.createElement('div');\n",
              "      const label = document.createElement('label');\n",
              "      label.textContent = `Downloading \"${filename}\": `;\n",
              "      div.appendChild(label);\n",
              "      const progress = document.createElement('progress');\n",
              "      progress.max = size;\n",
              "      div.appendChild(progress);\n",
              "      document.body.appendChild(div);\n",
              "\n",
              "      const buffers = [];\n",
              "      let downloaded = 0;\n",
              "\n",
              "      const channel = await google.colab.kernel.comms.open(id);\n",
              "      // Send a message to notify the kernel that we're ready.\n",
              "      channel.send({})\n",
              "\n",
              "      for await (const message of channel.messages) {\n",
              "        // Send a message to notify the kernel that we're ready.\n",
              "        channel.send({})\n",
              "        if (message.buffers) {\n",
              "          for (const buffer of message.buffers) {\n",
              "            buffers.push(buffer);\n",
              "            downloaded += buffer.byteLength;\n",
              "            progress.value = downloaded;\n",
              "          }\n",
              "        }\n",
              "      }\n",
              "      const blob = new Blob(buffers, {type: 'application/binary'});\n",
              "      const a = document.createElement('a');\n",
              "      a.href = window.URL.createObjectURL(blob);\n",
              "      a.download = filename;\n",
              "      div.appendChild(a);\n",
              "      a.click();\n",
              "      div.remove();\n",
              "    }\n",
              "  "
            ],
            "text/plain": [
              "<IPython.core.display.Javascript object>"
            ]
          },
          "metadata": {
            "tags": []
          }
        },
        {
          "output_type": "display_data",
          "data": {
            "application/javascript": [
              "download(\"download_26b45edf-8484-464a-89bd-3b7546d8ffac\", \"adaboundres_test.pt\", 879)"
            ],
            "text/plain": [
              "<IPython.core.display.Javascript object>"
            ]
          },
          "metadata": {
            "tags": []
          }
        }
      ]
    },
    {
      "cell_type": "code",
      "metadata": {
        "colab": {
          "base_uri": "https://localhost:8080/",
          "height": 1000
        },
        "id": "N_nWRBrYiN-d",
        "outputId": "168992b5-de90-4b22-c97d-868029099bed"
      },
      "source": [
        "train_list = None\n",
        "test_list = None\n",
        "model = models.resnet34()\n",
        "optimizer = optim.Adam(model.parameters())\n",
        "model.to(device)\n",
        "path = 'AdamRes.pt'\n",
        "train_list, test_list = trainImageModel(model, trainloader, testloader, n_epochs, criterion, optimizer, device, path)\n",
        "torch.save(train_list, 'adamres_train.pt')\n",
        "torch.save(test_list, 'adamres_test.pt')\n",
        "files.download('adamres_train.pt')\n",
        "files.download('adamres_test.pt')"
      ],
      "execution_count": 19,
      "outputs": [
        {
          "output_type": "stream",
          "text": [
            "1/50 (1m 40s) train loss: 1.867, train error: 68.05%, val loss: 1.466, val error: 54.46%\n",
            "Validation error rate in first epoch: 54.46%\n",
            "Saving model...\n",
            "2/50 (3m 21s) train loss: 1.482, train error: 53.75%, val loss: 1.271, val error: 44.34%\n",
            "Validation error rate is decreasing: 54.46% --> 44.34%\n",
            "Saving model...\n",
            "3/50 (5m 3s) train loss: 1.256, train error: 44.81%, val loss: 1.081, val error: 36.12%\n",
            "Validation error rate is decreasing: 44.34% --> 36.12%\n",
            "Saving model...\n",
            "4/50 (6m 45s) train loss: 1.118, train error: 39.85%, val loss: 1.027, val error: 34.24%\n",
            "Validation error rate is decreasing: 36.12% --> 34.24%\n",
            "Saving model...\n",
            "5/50 (8m 27s) train loss: 1.018, train error: 35.85%, val loss: 0.746, val error: 25.74%\n",
            "Validation error rate is decreasing: 34.24% --> 25.74%\n",
            "Saving model...\n",
            "6/50 (10m 9s) train loss: 0.948, train error: 33.23%, val loss: 0.710, val error: 24.25%\n",
            "Validation error rate is decreasing: 25.74% --> 24.25%\n",
            "Saving model...\n",
            "7/50 (11m 50s) train loss: 0.881, train error: 30.91%, val loss: 0.627, val error: 21.69%\n",
            "Validation error rate is decreasing: 24.25% --> 21.69%\n",
            "Saving model...\n",
            "8/50 (13m 33s) train loss: 0.837, train error: 29.34%, val loss: 0.556, val error: 19.33%\n",
            "Validation error rate is decreasing: 21.69% --> 19.33%\n",
            "Saving model...\n",
            "9/50 (15m 17s) train loss: 0.798, train error: 27.81%, val loss: 0.603, val error: 20.26%\n",
            "10/50 (17m 0s) train loss: 0.763, train error: 26.66%, val loss: 0.476, val error: 16.08%\n",
            "Validation error rate is decreasing: 19.33% --> 16.08%\n",
            "Saving model...\n",
            "11/50 (18m 42s) train loss: 0.722, train error: 25.41%, val loss: 0.521, val error: 17.45%\n",
            "12/50 (20m 25s) train loss: 0.692, train error: 23.88%, val loss: 0.502, val error: 17.15%\n",
            "13/50 (22m 8s) train loss: 0.668, train error: 23.50%, val loss: 0.433, val error: 14.65%\n",
            "Validation error rate is decreasing: 16.08% --> 14.65%\n",
            "Saving model...\n",
            "14/50 (23m 50s) train loss: 0.651, train error: 22.77%, val loss: 0.402, val error: 13.38%\n",
            "Validation error rate is decreasing: 14.65% --> 13.38%\n",
            "Saving model...\n",
            "15/50 (25m 31s) train loss: 0.619, train error: 21.69%, val loss: 0.389, val error: 13.22%\n",
            "Validation error rate is decreasing: 13.38% --> 13.22%\n",
            "Saving model...\n",
            "16/50 (27m 13s) train loss: 0.605, train error: 21.01%, val loss: 0.377, val error: 12.86%\n",
            "Validation error rate is decreasing: 13.22% --> 12.86%\n",
            "Saving model...\n",
            "17/50 (28m 54s) train loss: 0.580, train error: 20.38%, val loss: 0.375, val error: 12.52%\n",
            "Validation error rate is decreasing: 12.86% --> 12.52%\n",
            "Saving model...\n",
            "18/50 (30m 38s) train loss: 0.562, train error: 19.52%, val loss: 0.334, val error: 11.46%\n",
            "Validation error rate is decreasing: 12.52% --> 11.46%\n",
            "Saving model...\n",
            "19/50 (32m 21s) train loss: 0.548, train error: 19.07%, val loss: 0.387, val error: 12.67%\n",
            "20/50 (34m 4s) train loss: 0.535, train error: 18.82%, val loss: 0.334, val error: 11.02%\n",
            "Validation error rate is decreasing: 11.46% --> 11.02%\n",
            "Saving model...\n",
            "21/50 (35m 47s) train loss: 0.519, train error: 18.35%, val loss: 0.331, val error: 10.69%\n",
            "Validation error rate is decreasing: 11.02% --> 10.69%\n",
            "Saving model...\n",
            "22/50 (37m 33s) train loss: 0.501, train error: 17.43%, val loss: 0.339, val error: 11.21%\n",
            "23/50 (39m 17s) train loss: 0.494, train error: 17.28%, val loss: 0.376, val error: 11.85%\n",
            "24/50 (41m 3s) train loss: 0.478, train error: 16.99%, val loss: 0.343, val error: 11.09%\n",
            "25/50 (42m 48s) train loss: 0.472, train error: 16.48%, val loss: 0.297, val error: 9.37%\n",
            "Validation error rate is decreasing: 10.69% --> 9.37%\n",
            "Saving model...\n",
            "26/50 (44m 34s) train loss: 0.458, train error: 15.84%, val loss: 0.291, val error: 9.89%\n",
            "27/50 (46m 21s) train loss: 0.447, train error: 15.70%, val loss: 0.294, val error: 9.47%\n",
            "28/50 (48m 7s) train loss: 0.439, train error: 15.40%, val loss: 0.292, val error: 9.53%\n",
            "29/50 (49m 54s) train loss: 0.434, train error: 15.14%, val loss: 0.290, val error: 9.33%\n",
            "Validation error rate is decreasing: 9.37% --> 9.33%\n",
            "Saving model...\n",
            "30/50 (51m 40s) train loss: 0.419, train error: 14.50%, val loss: 0.267, val error: 8.77%\n",
            "Validation error rate is decreasing: 9.33% --> 8.77%\n",
            "Saving model...\n",
            "31/50 (53m 27s) train loss: 0.414, train error: 14.39%, val loss: 0.296, val error: 9.29%\n",
            "32/50 (55m 14s) train loss: 0.405, train error: 14.16%, val loss: 0.258, val error: 8.26%\n",
            "Validation error rate is decreasing: 8.77% --> 8.26%\n",
            "Saving model...\n",
            "33/50 (57m 2s) train loss: 0.404, train error: 14.18%, val loss: 0.262, val error: 8.46%\n",
            "34/50 (58m 49s) train loss: 0.390, train error: 13.68%, val loss: 0.256, val error: 8.15%\n",
            "Validation error rate is decreasing: 8.26% --> 8.15%\n",
            "Saving model...\n",
            "35/50 (60m 36s) train loss: 0.381, train error: 13.37%, val loss: 0.253, val error: 8.18%\n",
            "36/50 (62m 24s) train loss: 0.372, train error: 13.01%, val loss: 0.269, val error: 8.51%\n",
            "37/50 (64m 12s) train loss: 0.370, train error: 12.88%, val loss: 0.274, val error: 8.54%\n",
            "38/50 (66m 1s) train loss: 0.364, train error: 12.67%, val loss: 0.250, val error: 7.79%\n",
            "Validation error rate is decreasing: 8.15% --> 7.79%\n",
            "Saving model...\n",
            "39/50 (67m 47s) train loss: 0.361, train error: 12.60%, val loss: 0.293, val error: 8.93%\n",
            "40/50 (69m 34s) train loss: 0.352, train error: 12.34%, val loss: 0.274, val error: 8.19%\n",
            "41/50 (71m 22s) train loss: 0.347, train error: 12.13%, val loss: 0.270, val error: 8.38%\n",
            "42/50 (73m 9s) train loss: 0.334, train error: 11.65%, val loss: 0.259, val error: 7.67%\n",
            "Validation error rate is decreasing: 7.79% --> 7.67%\n",
            "Saving model...\n",
            "43/50 (74m 57s) train loss: 0.338, train error: 11.87%, val loss: 0.266, val error: 8.25%\n",
            "44/50 (76m 45s) train loss: 0.341, train error: 11.86%, val loss: 0.259, val error: 8.02%\n",
            "45/50 (78m 32s) train loss: 0.324, train error: 11.37%, val loss: 0.268, val error: 7.78%\n",
            "46/50 (80m 19s) train loss: 0.323, train error: 11.29%, val loss: 0.248, val error: 7.41%\n",
            "Validation error rate is decreasing: 7.67% --> 7.41%\n",
            "Saving model...\n",
            "47/50 (82m 7s) train loss: 0.317, train error: 11.00%, val loss: 0.258, val error: 7.32%\n",
            "Validation error rate is decreasing: 7.41% --> 7.32%\n",
            "Saving model...\n",
            "48/50 (83m 54s) train loss: 0.314, train error: 10.91%, val loss: 0.241, val error: 7.16%\n",
            "Validation error rate is decreasing: 7.32% --> 7.16%\n",
            "Saving model...\n",
            "49/50 (85m 42s) train loss: 0.312, train error: 10.86%, val loss: 0.247, val error: 7.46%\n",
            "50/50 (87m 29s) train loss: 0.297, train error: 10.41%, val loss: 0.256, val error: 7.30%\n"
          ],
          "name": "stdout"
        },
        {
          "output_type": "display_data",
          "data": {
            "application/javascript": [
              "\n",
              "    async function download(id, filename, size) {\n",
              "      if (!google.colab.kernel.accessAllowed) {\n",
              "        return;\n",
              "      }\n",
              "      const div = document.createElement('div');\n",
              "      const label = document.createElement('label');\n",
              "      label.textContent = `Downloading \"${filename}\": `;\n",
              "      div.appendChild(label);\n",
              "      const progress = document.createElement('progress');\n",
              "      progress.max = size;\n",
              "      div.appendChild(progress);\n",
              "      document.body.appendChild(div);\n",
              "\n",
              "      const buffers = [];\n",
              "      let downloaded = 0;\n",
              "\n",
              "      const channel = await google.colab.kernel.comms.open(id);\n",
              "      // Send a message to notify the kernel that we're ready.\n",
              "      channel.send({})\n",
              "\n",
              "      for await (const message of channel.messages) {\n",
              "        // Send a message to notify the kernel that we're ready.\n",
              "        channel.send({})\n",
              "        if (message.buffers) {\n",
              "          for (const buffer of message.buffers) {\n",
              "            buffers.push(buffer);\n",
              "            downloaded += buffer.byteLength;\n",
              "            progress.value = downloaded;\n",
              "          }\n",
              "        }\n",
              "      }\n",
              "      const blob = new Blob(buffers, {type: 'application/binary'});\n",
              "      const a = document.createElement('a');\n",
              "      a.href = window.URL.createObjectURL(blob);\n",
              "      a.download = filename;\n",
              "      div.appendChild(a);\n",
              "      a.click();\n",
              "      div.remove();\n",
              "    }\n",
              "  "
            ],
            "text/plain": [
              "<IPython.core.display.Javascript object>"
            ]
          },
          "metadata": {
            "tags": []
          }
        },
        {
          "output_type": "display_data",
          "data": {
            "application/javascript": [
              "download(\"download_f1ac4958-9674-4da7-ab52-36934f9cda1f\", \"adamres_train.pt\", 879)"
            ],
            "text/plain": [
              "<IPython.core.display.Javascript object>"
            ]
          },
          "metadata": {
            "tags": []
          }
        },
        {
          "output_type": "display_data",
          "data": {
            "application/javascript": [
              "\n",
              "    async function download(id, filename, size) {\n",
              "      if (!google.colab.kernel.accessAllowed) {\n",
              "        return;\n",
              "      }\n",
              "      const div = document.createElement('div');\n",
              "      const label = document.createElement('label');\n",
              "      label.textContent = `Downloading \"${filename}\": `;\n",
              "      div.appendChild(label);\n",
              "      const progress = document.createElement('progress');\n",
              "      progress.max = size;\n",
              "      div.appendChild(progress);\n",
              "      document.body.appendChild(div);\n",
              "\n",
              "      const buffers = [];\n",
              "      let downloaded = 0;\n",
              "\n",
              "      const channel = await google.colab.kernel.comms.open(id);\n",
              "      // Send a message to notify the kernel that we're ready.\n",
              "      channel.send({})\n",
              "\n",
              "      for await (const message of channel.messages) {\n",
              "        // Send a message to notify the kernel that we're ready.\n",
              "        channel.send({})\n",
              "        if (message.buffers) {\n",
              "          for (const buffer of message.buffers) {\n",
              "            buffers.push(buffer);\n",
              "            downloaded += buffer.byteLength;\n",
              "            progress.value = downloaded;\n",
              "          }\n",
              "        }\n",
              "      }\n",
              "      const blob = new Blob(buffers, {type: 'application/binary'});\n",
              "      const a = document.createElement('a');\n",
              "      a.href = window.URL.createObjectURL(blob);\n",
              "      a.download = filename;\n",
              "      div.appendChild(a);\n",
              "      a.click();\n",
              "      div.remove();\n",
              "    }\n",
              "  "
            ],
            "text/plain": [
              "<IPython.core.display.Javascript object>"
            ]
          },
          "metadata": {
            "tags": []
          }
        },
        {
          "output_type": "display_data",
          "data": {
            "application/javascript": [
              "download(\"download_c413da73-c63f-4aa7-9cbe-6d7fa64bb100\", \"adamres_test.pt\", 879)"
            ],
            "text/plain": [
              "<IPython.core.display.Javascript object>"
            ]
          },
          "metadata": {
            "tags": []
          }
        }
      ]
    },
    {
      "cell_type": "code",
      "metadata": {
        "colab": {
          "base_uri": "https://localhost:8080/",
          "height": 17
        },
        "id": "oQSxCtAInygi",
        "outputId": "80928c46-25d6-432b-fd73-91160799562e"
      },
      "source": [
        "path_list = ['adabeliefres_train.pt', 'adabeliefres_test.pt',\n",
        "             'adaboundres_train.pt', 'adaboundres_test.pt',\n",
        "             'adamres_train.pt', 'adamres_test.pt']\n",
        "\n",
        "for path in path_list:\n",
        "    files.download(path)"
      ],
      "execution_count": 22,
      "outputs": [
        {
          "output_type": "display_data",
          "data": {
            "application/javascript": [
              "\n",
              "    async function download(id, filename, size) {\n",
              "      if (!google.colab.kernel.accessAllowed) {\n",
              "        return;\n",
              "      }\n",
              "      const div = document.createElement('div');\n",
              "      const label = document.createElement('label');\n",
              "      label.textContent = `Downloading \"${filename}\": `;\n",
              "      div.appendChild(label);\n",
              "      const progress = document.createElement('progress');\n",
              "      progress.max = size;\n",
              "      div.appendChild(progress);\n",
              "      document.body.appendChild(div);\n",
              "\n",
              "      const buffers = [];\n",
              "      let downloaded = 0;\n",
              "\n",
              "      const channel = await google.colab.kernel.comms.open(id);\n",
              "      // Send a message to notify the kernel that we're ready.\n",
              "      channel.send({})\n",
              "\n",
              "      for await (const message of channel.messages) {\n",
              "        // Send a message to notify the kernel that we're ready.\n",
              "        channel.send({})\n",
              "        if (message.buffers) {\n",
              "          for (const buffer of message.buffers) {\n",
              "            buffers.push(buffer);\n",
              "            downloaded += buffer.byteLength;\n",
              "            progress.value = downloaded;\n",
              "          }\n",
              "        }\n",
              "      }\n",
              "      const blob = new Blob(buffers, {type: 'application/binary'});\n",
              "      const a = document.createElement('a');\n",
              "      a.href = window.URL.createObjectURL(blob);\n",
              "      a.download = filename;\n",
              "      div.appendChild(a);\n",
              "      a.click();\n",
              "      div.remove();\n",
              "    }\n",
              "  "
            ],
            "text/plain": [
              "<IPython.core.display.Javascript object>"
            ]
          },
          "metadata": {
            "tags": []
          }
        },
        {
          "output_type": "display_data",
          "data": {
            "application/javascript": [
              "download(\"download_a0c8b095-6a67-4cf5-a76e-d4bd625b6140\", \"adabeliefres_train.pt\", 879)"
            ],
            "text/plain": [
              "<IPython.core.display.Javascript object>"
            ]
          },
          "metadata": {
            "tags": []
          }
        },
        {
          "output_type": "display_data",
          "data": {
            "application/javascript": [
              "\n",
              "    async function download(id, filename, size) {\n",
              "      if (!google.colab.kernel.accessAllowed) {\n",
              "        return;\n",
              "      }\n",
              "      const div = document.createElement('div');\n",
              "      const label = document.createElement('label');\n",
              "      label.textContent = `Downloading \"${filename}\": `;\n",
              "      div.appendChild(label);\n",
              "      const progress = document.createElement('progress');\n",
              "      progress.max = size;\n",
              "      div.appendChild(progress);\n",
              "      document.body.appendChild(div);\n",
              "\n",
              "      const buffers = [];\n",
              "      let downloaded = 0;\n",
              "\n",
              "      const channel = await google.colab.kernel.comms.open(id);\n",
              "      // Send a message to notify the kernel that we're ready.\n",
              "      channel.send({})\n",
              "\n",
              "      for await (const message of channel.messages) {\n",
              "        // Send a message to notify the kernel that we're ready.\n",
              "        channel.send({})\n",
              "        if (message.buffers) {\n",
              "          for (const buffer of message.buffers) {\n",
              "            buffers.push(buffer);\n",
              "            downloaded += buffer.byteLength;\n",
              "            progress.value = downloaded;\n",
              "          }\n",
              "        }\n",
              "      }\n",
              "      const blob = new Blob(buffers, {type: 'application/binary'});\n",
              "      const a = document.createElement('a');\n",
              "      a.href = window.URL.createObjectURL(blob);\n",
              "      a.download = filename;\n",
              "      div.appendChild(a);\n",
              "      a.click();\n",
              "      div.remove();\n",
              "    }\n",
              "  "
            ],
            "text/plain": [
              "<IPython.core.display.Javascript object>"
            ]
          },
          "metadata": {
            "tags": []
          }
        },
        {
          "output_type": "display_data",
          "data": {
            "application/javascript": [
              "download(\"download_e96420eb-cfe9-452d-8203-c8011438994b\", \"adabeliefres_test.pt\", 879)"
            ],
            "text/plain": [
              "<IPython.core.display.Javascript object>"
            ]
          },
          "metadata": {
            "tags": []
          }
        },
        {
          "output_type": "display_data",
          "data": {
            "application/javascript": [
              "\n",
              "    async function download(id, filename, size) {\n",
              "      if (!google.colab.kernel.accessAllowed) {\n",
              "        return;\n",
              "      }\n",
              "      const div = document.createElement('div');\n",
              "      const label = document.createElement('label');\n",
              "      label.textContent = `Downloading \"${filename}\": `;\n",
              "      div.appendChild(label);\n",
              "      const progress = document.createElement('progress');\n",
              "      progress.max = size;\n",
              "      div.appendChild(progress);\n",
              "      document.body.appendChild(div);\n",
              "\n",
              "      const buffers = [];\n",
              "      let downloaded = 0;\n",
              "\n",
              "      const channel = await google.colab.kernel.comms.open(id);\n",
              "      // Send a message to notify the kernel that we're ready.\n",
              "      channel.send({})\n",
              "\n",
              "      for await (const message of channel.messages) {\n",
              "        // Send a message to notify the kernel that we're ready.\n",
              "        channel.send({})\n",
              "        if (message.buffers) {\n",
              "          for (const buffer of message.buffers) {\n",
              "            buffers.push(buffer);\n",
              "            downloaded += buffer.byteLength;\n",
              "            progress.value = downloaded;\n",
              "          }\n",
              "        }\n",
              "      }\n",
              "      const blob = new Blob(buffers, {type: 'application/binary'});\n",
              "      const a = document.createElement('a');\n",
              "      a.href = window.URL.createObjectURL(blob);\n",
              "      a.download = filename;\n",
              "      div.appendChild(a);\n",
              "      a.click();\n",
              "      div.remove();\n",
              "    }\n",
              "  "
            ],
            "text/plain": [
              "<IPython.core.display.Javascript object>"
            ]
          },
          "metadata": {
            "tags": []
          }
        },
        {
          "output_type": "display_data",
          "data": {
            "application/javascript": [
              "download(\"download_37e642e3-059b-44b6-b4c7-d43b6b17099b\", \"adaboundres_train.pt\", 879)"
            ],
            "text/plain": [
              "<IPython.core.display.Javascript object>"
            ]
          },
          "metadata": {
            "tags": []
          }
        },
        {
          "output_type": "display_data",
          "data": {
            "application/javascript": [
              "\n",
              "    async function download(id, filename, size) {\n",
              "      if (!google.colab.kernel.accessAllowed) {\n",
              "        return;\n",
              "      }\n",
              "      const div = document.createElement('div');\n",
              "      const label = document.createElement('label');\n",
              "      label.textContent = `Downloading \"${filename}\": `;\n",
              "      div.appendChild(label);\n",
              "      const progress = document.createElement('progress');\n",
              "      progress.max = size;\n",
              "      div.appendChild(progress);\n",
              "      document.body.appendChild(div);\n",
              "\n",
              "      const buffers = [];\n",
              "      let downloaded = 0;\n",
              "\n",
              "      const channel = await google.colab.kernel.comms.open(id);\n",
              "      // Send a message to notify the kernel that we're ready.\n",
              "      channel.send({})\n",
              "\n",
              "      for await (const message of channel.messages) {\n",
              "        // Send a message to notify the kernel that we're ready.\n",
              "        channel.send({})\n",
              "        if (message.buffers) {\n",
              "          for (const buffer of message.buffers) {\n",
              "            buffers.push(buffer);\n",
              "            downloaded += buffer.byteLength;\n",
              "            progress.value = downloaded;\n",
              "          }\n",
              "        }\n",
              "      }\n",
              "      const blob = new Blob(buffers, {type: 'application/binary'});\n",
              "      const a = document.createElement('a');\n",
              "      a.href = window.URL.createObjectURL(blob);\n",
              "      a.download = filename;\n",
              "      div.appendChild(a);\n",
              "      a.click();\n",
              "      div.remove();\n",
              "    }\n",
              "  "
            ],
            "text/plain": [
              "<IPython.core.display.Javascript object>"
            ]
          },
          "metadata": {
            "tags": []
          }
        },
        {
          "output_type": "display_data",
          "data": {
            "application/javascript": [
              "download(\"download_d0e1117e-cfc7-4c6c-8744-c3bf43bd44bc\", \"adaboundres_test.pt\", 879)"
            ],
            "text/plain": [
              "<IPython.core.display.Javascript object>"
            ]
          },
          "metadata": {
            "tags": []
          }
        },
        {
          "output_type": "display_data",
          "data": {
            "application/javascript": [
              "\n",
              "    async function download(id, filename, size) {\n",
              "      if (!google.colab.kernel.accessAllowed) {\n",
              "        return;\n",
              "      }\n",
              "      const div = document.createElement('div');\n",
              "      const label = document.createElement('label');\n",
              "      label.textContent = `Downloading \"${filename}\": `;\n",
              "      div.appendChild(label);\n",
              "      const progress = document.createElement('progress');\n",
              "      progress.max = size;\n",
              "      div.appendChild(progress);\n",
              "      document.body.appendChild(div);\n",
              "\n",
              "      const buffers = [];\n",
              "      let downloaded = 0;\n",
              "\n",
              "      const channel = await google.colab.kernel.comms.open(id);\n",
              "      // Send a message to notify the kernel that we're ready.\n",
              "      channel.send({})\n",
              "\n",
              "      for await (const message of channel.messages) {\n",
              "        // Send a message to notify the kernel that we're ready.\n",
              "        channel.send({})\n",
              "        if (message.buffers) {\n",
              "          for (const buffer of message.buffers) {\n",
              "            buffers.push(buffer);\n",
              "            downloaded += buffer.byteLength;\n",
              "            progress.value = downloaded;\n",
              "          }\n",
              "        }\n",
              "      }\n",
              "      const blob = new Blob(buffers, {type: 'application/binary'});\n",
              "      const a = document.createElement('a');\n",
              "      a.href = window.URL.createObjectURL(blob);\n",
              "      a.download = filename;\n",
              "      div.appendChild(a);\n",
              "      a.click();\n",
              "      div.remove();\n",
              "    }\n",
              "  "
            ],
            "text/plain": [
              "<IPython.core.display.Javascript object>"
            ]
          },
          "metadata": {
            "tags": []
          }
        },
        {
          "output_type": "display_data",
          "data": {
            "application/javascript": [
              "download(\"download_d452e3a4-17cb-4a68-9279-c5cd4e871bdd\", \"adamres_train.pt\", 879)"
            ],
            "text/plain": [
              "<IPython.core.display.Javascript object>"
            ]
          },
          "metadata": {
            "tags": []
          }
        },
        {
          "output_type": "display_data",
          "data": {
            "application/javascript": [
              "\n",
              "    async function download(id, filename, size) {\n",
              "      if (!google.colab.kernel.accessAllowed) {\n",
              "        return;\n",
              "      }\n",
              "      const div = document.createElement('div');\n",
              "      const label = document.createElement('label');\n",
              "      label.textContent = `Downloading \"${filename}\": `;\n",
              "      div.appendChild(label);\n",
              "      const progress = document.createElement('progress');\n",
              "      progress.max = size;\n",
              "      div.appendChild(progress);\n",
              "      document.body.appendChild(div);\n",
              "\n",
              "      const buffers = [];\n",
              "      let downloaded = 0;\n",
              "\n",
              "      const channel = await google.colab.kernel.comms.open(id);\n",
              "      // Send a message to notify the kernel that we're ready.\n",
              "      channel.send({})\n",
              "\n",
              "      for await (const message of channel.messages) {\n",
              "        // Send a message to notify the kernel that we're ready.\n",
              "        channel.send({})\n",
              "        if (message.buffers) {\n",
              "          for (const buffer of message.buffers) {\n",
              "            buffers.push(buffer);\n",
              "            downloaded += buffer.byteLength;\n",
              "            progress.value = downloaded;\n",
              "          }\n",
              "        }\n",
              "      }\n",
              "      const blob = new Blob(buffers, {type: 'application/binary'});\n",
              "      const a = document.createElement('a');\n",
              "      a.href = window.URL.createObjectURL(blob);\n",
              "      a.download = filename;\n",
              "      div.appendChild(a);\n",
              "      a.click();\n",
              "      div.remove();\n",
              "    }\n",
              "  "
            ],
            "text/plain": [
              "<IPython.core.display.Javascript object>"
            ]
          },
          "metadata": {
            "tags": []
          }
        },
        {
          "output_type": "display_data",
          "data": {
            "application/javascript": [
              "download(\"download_00aff4c4-54d3-40a7-83d8-56eaee83446f\", \"adamres_test.pt\", 879)"
            ],
            "text/plain": [
              "<IPython.core.display.Javascript object>"
            ]
          },
          "metadata": {
            "tags": []
          }
        }
      ]
    },
    {
      "cell_type": "code",
      "metadata": {
        "id": "ezSVAuI4wFPo"
      },
      "source": [
        ""
      ],
      "execution_count": null,
      "outputs": []
    }
  ]
}